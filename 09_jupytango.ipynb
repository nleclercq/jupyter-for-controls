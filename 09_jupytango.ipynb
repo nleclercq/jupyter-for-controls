{
 "cells": [
  {
   "cell_type": "markdown",
   "metadata": {},
   "source": [
    "# **jupyTango**\n",
    "### **leveraging pytango, itango and bokeh features in the Jupyter notebook**\n",
    "\n",
    "## About this notebook\n",
    "\n",
    "This notebook belongs to a series of small projects which aim is to evaluate the [Jupyter](http://jupyter.org/) ecosystem for science experiments control. The main idea is to use the _Juypter notebook_ as a convergence platform in order to offer a fully featured environment to scientists. \n",
    "\n",
    "## About Tango \n",
    "[Tango](https://www.tango-controls.org) is a free open source device-oriented controls toolkit for controlling any kind of hardware or software and building SCADA (supervisory control and data acquisition) systems. Tango Controls is operating system independent and supports C++, Java and Python for all the components.\n",
    "\n",
    "## About bokeh\n",
    "Experiments control requires both static and dynamic (i.e live) data visualization. Since Jupyter doesn't provide any 'official' data visualization solution, we need to select one. Among the available solutions, [bokeh](http://bokeh.pydata.org/en/latest) presents the highest potential for our application.\n",
    "\n",
    "## Topic of the day\n",
    "This notebook is a tutorial on \"How to provide amazing Tango releated features in the jupyterlab\"\n",
    "\n",
    "## jupyTango installation\n",
    "Here is a step by step jupyTango installation procedure.\n",
    "\n",
    "#### Step-00: (if required) follow the tango installation procedure for [ubuntu](https://tango-controls.readthedocs.io/en/latest/installation/tango-on-linux.html#debian-ubuntu)\n",
    "- `sudo apt install mariadb-server`\n",
    "- `sudo apt install tango-db tango-test`\n",
    "\n",
    "#### Step-01: install [anaconda](https://www.anaconda.com/products/individual)\n",
    "- create a dedicated jupytango environment (optional but recommended): `conda create -n jupytango python=3.7`\n",
    "- activate the jupytango environment: `conda activate jupytango`\n",
    "\n",
    "#### Step-02: install [scikit-image](https://scikit-image.org)\n",
    "- `conda install -c conda-forge scikit-image`\n",
    "\n",
    "#### Step-03: install [jupyterlab](https://jupyter.org)\n",
    "- `conda install -c conda-forge jupyterlab`\n",
    "\n",
    "#### Step-04: install [nodejs](https://nodejs.org/en/)\n",
    "- `conda install -c conda-forge nodejs=10`\n",
    "\n",
    "#### Step-05: install [ipywidgets](https://github.com/jupyter-widgets/ipywidgets)\n",
    "- `conda install -c conda-forge ipywidgets`\n",
    "- install the ipywidgets extension for jupyterlab: `jupyter labextension install @jupyter-widgets/jupyterlab-manager@2.0`\n",
    "\n",
    "#### Step-06: install [bokeh](https://docs.bokeh.org/en/latest/)\n",
    "- `conda install -c conda-forge bokeh`\n",
    "- install the bokeh extension for jupyterlab: `jupyter labextension install @bokeh/jupyter_bokeh`\n",
    "\n",
    "#### Step-07: install [pytango](https://pytango.readthedocs.io/en/stable/)\n",
    "- `conda install -c tango-controls pytango`\n",
    "\n",
    "#### Step-08: install [itango](https://pythonhosted.org/itango/)\n",
    "- `conda install -c tango-controls itango`\n",
    "\n",
    "#### Step-09: create the jupyTango profile (i.e. [ipython](https://ipython.org) profile) \n",
    "- create the profile directory: `cp -Rf $HOME/.ipython/profile_default $HOME/.ipython/profile_jupytango`\n",
    "- in that directory create a file named `ipython_config.py` containing:\n",
    "```\n",
    "    config = get_config()\n",
    "    config.InteractiveShellApp.extensions = ['jupytango']\n",
    "```\n",
    "\n",
    "#### Step-10: create the jupyTango (i.e. the [jupyter](https://jupyter.org) kernel) \n",
    "- create the kernel directory: `mkdir $HOME/.local/share/jupyter/kernels/jupytango`\n",
    "- in that directory create a file named `kernel.json` containing the following configuration:\n",
    "```\n",
    "    {\n",
    "         \"argv\": [\n",
    "              \"$HOME/anaconda/bin/python\",\n",
    "              \"-m\",\n",
    "              \"ipykernel\",\n",
    "              \"-f\",\n",
    "              \"{connection_file}\",\n",
    "              \"--profile\",\n",
    "              \"jupytango\"\n",
    "         ],\n",
    "         \"language\": \"python\",\n",
    "         \"display_name\": \"jupyTango\"\n",
    "    }\n",
    "```\n",
    "\n",
    "## opening a jupyTango notebook\n",
    "- Open a terminal \n",
    "- Specify the jupyTango context by typing: `export JUPYTER_CONTEXT=LAB` (this will be removed in a near future)\n",
    "- Start jupyterlab by typing: `jupyter-lab` (will spawn a web browser instance)\n",
    "- From the `Launcher` tab of the web browser `JupyterLab` tab, open a `jupyTango` notebook (click on the `J` icon)\n",
    "- Enjoy!\n",
    "\n",
    "## the jupyTango magics\n",
    "jupyTango defines two jupyter magics (more to come): `%tango_monitor` and `%plot_tango_attribute`."
   ]
  },
  {
   "cell_type": "markdown",
   "metadata": {},
   "source": [
    "The `%tango_monitor` - or its alias `%tgm` - provides us with a live/asynchronous tango attribute monitor."
   ]
  },
  {
   "cell_type": "code",
   "execution_count": null,
   "metadata": {},
   "outputs": [],
   "source": [
    "tgm sys/tg_test/1/long_image_ro"
   ]
  },
  {
   "cell_type": "markdown",
   "metadata": {},
   "source": [
    "The`%plot_tango_attribute` or `%pta` offers a static/synchronous plot of any tango attribute (snapshot)."
   ]
  },
  {
   "cell_type": "code",
   "execution_count": null,
   "metadata": {},
   "outputs": [],
   "source": [
    "pta sys/tg_test/1/long_image"
   ]
  },
  {
   "cell_type": "markdown",
   "metadata": {},
   "source": [
    "Thanks to itango, these magics provide device and attribute completion using the 'TAB' key. For instance, type `tgm + <TAB>` ina notebook cell to select the Tango device, then type <TAB> again to select the attribute you want to monitor."
   ]
  },
  {
   "cell_type": "code",
   "execution_count": null,
   "metadata": {},
   "outputs": [],
   "source": [
    "tgm "
   ]
  },
  {
   "cell_type": "markdown",
   "metadata": {},
   "source": [
    "Type `tango_monitor?` or `plot_tango_attribute?` for inline documentation (i.e. optional parameter details)."
   ]
  },
  {
   "cell_type": "code",
   "execution_count": null,
   "metadata": {},
   "outputs": [],
   "source": [
    "tango_monitor?"
   ]
  },
  {
   "cell_type": "markdown",
   "metadata": {},
   "source": [
    "You can obviously use pytango as you would do in a python console or script (see examples below). Note that some itango also provide name completion for `tango.Device`, `tango.DeviceProxy`,  `tango.Attribute` and`tango.AttributeProxy`. \n",
    "\n",
    "For instance, type `tt = tango.DeviceProxy(\" + <TAB>` to select a device along the list of exported ones."
   ]
  },
  {
   "cell_type": "code",
   "execution_count": null,
   "metadata": {},
   "outputs": [],
   "source": [
    "import tango\n",
    "tt = tango.DeviceProxy(\"sys/tg_test/1\")"
   ]
  },
  {
   "cell_type": "code",
   "execution_count": null,
   "metadata": {},
   "outputs": [],
   "source": [
    "tt.state()"
   ]
  },
  {
   "cell_type": "code",
   "execution_count": null,
   "metadata": {},
   "outputs": [],
   "source": [
    "tt.ampli"
   ]
  }
 ],
 "metadata": {
  "kernelspec": {
   "display_name": "jupytango",
   "language": "python",
   "name": "jupytango"
  },
  "language_info": {
   "codemirror_mode": {
    "name": "ipython",
    "version": 3
   },
   "file_extension": ".py",
   "mimetype": "text/x-python",
   "name": "python",
   "nbconvert_exporter": "python",
   "pygments_lexer": "ipython3",
   "version": "3.7.7"
  }
 },
 "nbformat": 4,
 "nbformat_minor": 4
}
