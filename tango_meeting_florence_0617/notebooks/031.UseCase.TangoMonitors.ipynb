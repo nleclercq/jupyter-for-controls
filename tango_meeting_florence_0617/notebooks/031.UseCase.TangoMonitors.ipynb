{
 "cells": [
  {
   "cell_type": "markdown",
   "metadata": {
    "slideshow": {
     "slide_type": "slide"
    }
   },
   "source": [
    "<div style=\"-webkit-column-count: 3; -moz-column-count: 3; column-count: 3; -webkit-column-rule: 1px dotted #e0e0e0; -moz-column-rule: 1px dotted #e0e0e0; column-rule: 1px dotted #e0e0e0\">\n",
    "    <div style=\"display: inline-block;\" >\n",
    "        <img src=\"../resources/images/tango_controls_logo.png\" width=\"14\" height=\"14\">\n",
    "    </div>\n",
    "    <div style=\"display: inline-block; font-size:18px;\">\n",
    "        <b>Jupyter: mixing CLI & GUI for beamline controls</b>\n",
    "    </div>\n",
    "</div>\n",
    "<div style=\"display: inline-block; font-size:12px;\">\n",
    "    N. Leclercq - 31st Tango Meeting - Florence - June 2017\n",
    "</div>"
   ]
  },
  {
   "cell_type": "code",
   "execution_count": 1,
   "metadata": {},
   "outputs": [
    {
     "data": {
      "text/html": [
       "<script src='//code.jquery.com/jquery-3.3.1.min.js'></script>\n",
       "<script>\n",
       "code_show=true; \n",
       "function code_toggle() {\n",
       " if (code_show){\n",
       " $('div.input').hide();\n",
       " $('div .jp-CodeCell .jp-Cell-inputWrapper').hide();\n",
       " } else {\n",
       " $('div.input').show();\n",
       " $('div .jp-CodeCell .jp-Cell-inputWrapper').show();\n",
       " }\n",
       " code_show = !code_show\n",
       "}\n",
       "$( document ).ready(code_toggle);\n",
       "</script>\n",
       "The raw code for this IPython notebook is by default hidden for easier reading.\n",
       "To toggle on/off the raw code, click <a href=\"javascript:code_toggle()\">here</a>\n"
      ],
      "text/plain": [
       "<IPython.core.display.HTML object>"
      ]
     },
     "metadata": {},
     "output_type": "display_data"
    }
   ],
   "source": [
    "%%HTML\n",
    "<script src='//code.jquery.com/jquery-3.3.1.min.js'></script>\n",
    "<script>\n",
    "code_show=true; \n",
    "function code_toggle() {\n",
    " if (code_show){\n",
    " $('div.input').hide();\n",
    " $('div .jp-CodeCell .jp-Cell-inputWrapper').hide();\n",
    " } else {\n",
    " $('div.input').show();\n",
    " $('div .jp-CodeCell .jp-Cell-inputWrapper').show();\n",
    " }\n",
    " code_show = !code_show\n",
    "}\n",
    "$( document ).ready(code_toggle);\n",
    "</script>\n",
    "The raw code for this IPython notebook is by default hidden for easier reading.\n",
    "To toggle on/off the raw code, click <a href=\"javascript:code_toggle()\">here</a>"
   ]
  },
  {
   "cell_type": "markdown",
   "metadata": {},
   "source": [
    "# 3.2 Use case: a Tango attribute monitor"
   ]
  },
  {
   "cell_type": "code",
   "execution_count": 2,
   "metadata": {},
   "outputs": [
    {
     "data": {
      "text/html": [
       "<video width=\"700\" height=\"500\" controls>\n",
       "  <source src=\"../resources/videos/TangoMonitors.mov\" type=\"video/mp4\">\n",
       "</video>\n"
      ],
      "text/plain": [
       "<IPython.core.display.HTML object>"
      ]
     },
     "metadata": {},
     "output_type": "display_data"
    }
   ],
   "source": [
    "%%HTML\n",
    "<video width=\"700\" height=\"500\" controls>\n",
    "  <source src=\"../resources/videos/TangoMonitors.mov\" type=\"video/mp4\">\n",
    "</video>"
   ]
  },
  {
   "cell_type": "code",
   "execution_count": null,
   "metadata": {},
   "outputs": [],
   "source": []
  }
 ],
 "metadata": {
  "kernelspec": {
   "display_name": "Python 3",
   "language": "python",
   "name": "python3"
  },
  "language_info": {
   "codemirror_mode": {
    "name": "ipython",
    "version": 3
   },
   "file_extension": ".py",
   "mimetype": "text/x-python",
   "name": "python",
   "nbconvert_exporter": "python",
   "pygments_lexer": "ipython3",
   "version": "3.7.6"
  },
  "widgets": {
   "application/vnd.jupyter.widget-state+json": {
    "state": {},
    "version_major": 1,
    "version_minor": 0
   }
  }
 },
 "nbformat": 4,
 "nbformat_minor": 4
}
