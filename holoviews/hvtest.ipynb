{
 "cells": [
  {
   "cell_type": "code",
   "execution_count": null,
   "metadata": {},
   "outputs": [],
   "source": [
    "import numpy as np\n",
    "import xarray as xr\n",
    "import holoviews as hv\n",
    "from holoviews import streams"
   ]
  },
  {
   "cell_type": "code",
   "execution_count": null,
   "metadata": {},
   "outputs": [],
   "source": [
    "hv.extension('bokeh', 'matplotlib', logo=None)"
   ]
  },
  {
   "cell_type": "code",
   "execution_count": null,
   "metadata": {},
   "outputs": [],
   "source": [
    "xvals = np.linspace(-5,5,256)\n",
    "yvals = np.linspace(-5,5,256)\n",
    "xs,ys = np.meshgrid(xvals, yvals)\n",
    "\n",
    "def waves_image(alpha, beta):\n",
    "    return np.sin(((ys/alpha)**alpha+beta)*xs)"
   ]
  },
  {
   "cell_type": "code",
   "execution_count": null,
   "metadata": {},
   "outputs": [],
   "source": [
    "data_vars = {\n",
    "    'i1': (['y', 'x'], waves_image(1., 1.)),\n",
    "    'i2': (['y', 'x'], waves_image(1., 2.)),\n",
    "    'i3': (['y', 'x'], waves_image(1., 3.)),\n",
    "    'i4': (['y', 'x'], waves_image(1., 4.))\n",
    "}\n",
    "coords = {\n",
    "    'x': (['x'], xvals, {'units':'a.u.'}), \n",
    "    'y': (['y'], yvals, {'units':'a.u'})\n",
    "}\n",
    "xrds = xr.Dataset(data_vars=data_vars, coords=coords)\n",
    "xrds"
   ]
  },
  {
   "cell_type": "code",
   "execution_count": null,
   "metadata": {},
   "outputs": [],
   "source": [
    "def bounds_to_text(bounds):\n",
    "    xc = bounds[0] + (bounds[2] - bounds[0]) / 2\n",
    "    yc = bounds[1] + (bounds[3] - bounds[1]) / 2\n",
    "    txt = \"x0: {:.2f}\\ny0: {:.2f}\\nx1: {:.2f}\\ny1: {:.2f}\".format(bounds[0], bounds[1], bounds[2], bounds[3])\n",
    "    return hv.Text(xc, yc, txt, fontsize=10, halign='center', valign='center')"
   ]
  },
  {
   "cell_type": "code",
   "execution_count": null,
   "metadata": {},
   "outputs": [],
   "source": [
    "def selection_callback(bounds):\n",
    "    return (hv.Bounds(bounds) * bounds_to_text(bounds))"
   ]
  },
  {
   "cell_type": "code",
   "execution_count": null,
   "metadata": {},
   "outputs": [],
   "source": [
    "%opts Image (cmap='viridis') [width=700 height=450 toolbar='above'  logz=False]\n",
    "images = {en:hv.Image(ed) for en, ed in xrds.data_vars.items()}\n",
    "hm = hv.HoloMap(images, kdims=['img'])\n",
    "box = streams.BoundsXY(source=hm, bounds=(0,0,0,0))\n",
    "bounds = hv.DynamicMap(selection_callback, streams=[box])\n",
    "hm * bounds"
   ]
  },
  {
   "cell_type": "code",
   "execution_count": null,
   "metadata": {},
   "outputs": [],
   "source": [
    "%opts Image [width=500 height=250]\n",
    "\n",
    "class ImagesSelection(object):\n",
    "    def __init__(self, imgs, kdims=[]):\n",
    "        self.bounds = (0,0,0,0) \n",
    "        self.dynamic_map = dict()\n",
    "        self.calls = list()\n",
    "        for k, i in imgs.items():\n",
    "            stream = streams.BoundsXY(source=i, bounds=(0,0,0,0))\n",
    "            self.dynamic_map[k] = hv.DynamicMap(self.callback_factory(k), streams=[stream])\n",
    "        self.bounds = hv.HoloMap(self.dynamic_map, kdims=imgs.kdims)\n",
    "    \n",
    "    def callback_factory(self, key):\n",
    "        def callback(bounds):\n",
    "            if self.bounds != bounds:\n",
    "                self.bounds = bounds\n",
    "                self.calls.append('{}: {}'.format(key, bounds))\n",
    "                for k, dm in self.dynamic_map.items():\n",
    "                    if k != key:\n",
    "                        dm.event(bounds=bounds)\n",
    "            return (hv.Bounds(self.bounds)* bounds_to_text(bounds))\n",
    "        return callback\n",
    "    \n",
    "    def reset(self):\n",
    "        self.bounds = (0,0,0,0) \n",
    "        for dm in self.dynamic_map.values():\n",
    "            dm.event(bounds= self.bounds)\n",
    "        \n",
    "    def __mul__(self, hvobj):\n",
    "        return hvobj * self.bounds\n",
    "        \n",
    "    def __rmul__(self, hvobj):\n",
    "        return self.__mul__(hvobj)\n",
    "    \n",
    "images = hv.HoloMap({n:hv.Image(d) for n, d in xrds.data_vars.items()}, kdims=['img'])\n",
    "\n",
    "selection = ImagesSelection(images)\n",
    "\n",
    "hv.NdLayout(selection * images).cols(2)"
   ]
  },
  {
   "cell_type": "code",
   "execution_count": null,
   "metadata": {},
   "outputs": [],
   "source": [
    "hv.NdLayout(hm).cols(2)"
   ]
  },
  {
   "cell_type": "code",
   "execution_count": null,
   "metadata": {},
   "outputs": [],
   "source": [
    "hvds = hv.Dataset(xrds)\n",
    "hvds"
   ]
  },
  {
   "cell_type": "code",
   "execution_count": null,
   "metadata": {},
   "outputs": [],
   "source": [
    "%opts Curve [width=600 height=250 show_grid=True]\n",
    "hvds.to(hv.Curve, ['x'], ['i1'])"
   ]
  },
  {
   "cell_type": "code",
   "execution_count": null,
   "metadata": {},
   "outputs": [],
   "source": [
    "dv = {\n",
    "    'S1': (['tx'], np.random.rand(1024)),\n",
    "    'S2': (['tx'], np.random.rand(1024))\n",
    "}\n",
    "co = {\n",
    "    'tx': (['tx'], np.linspace(-512, 512, 1024, True))\n",
    "}\n",
    "xrsp = xr.Dataset(data_vars=dv, coords=co)\n",
    "xrsp"
   ]
  },
  {
   "cell_type": "code",
   "execution_count": null,
   "metadata": {},
   "outputs": [],
   "source": [
    "hvsp = hv.Dataset(xrsp)\n",
    "hvsp"
   ]
  },
  {
   "cell_type": "code",
   "execution_count": null,
   "metadata": {},
   "outputs": [],
   "source": [
    "%opts Curve [width=1000 height=300  tools=['hover'] toolbar='above' shared_axes=True show_grid=True]\n",
    "hvsp.to(hv.Curve, ['tx'], ['S1']) * hvsp.to(hv.Curve, ['tx'], ['S2'])"
   ]
  },
  {
   "cell_type": "code",
   "execution_count": null,
   "metadata": {},
   "outputs": [],
   "source": []
  }
 ],
 "metadata": {
  "kernelspec": {
   "display_name": "Python 3",
   "language": "python",
   "name": "python3"
  },
  "language_info": {
   "codemirror_mode": {
    "name": "ipython",
    "version": 3
   },
   "file_extension": ".py",
   "mimetype": "text/x-python",
   "name": "python",
   "nbconvert_exporter": "python",
   "pygments_lexer": "ipython3",
   "version": "3.7.7"
  }
 },
 "nbformat": 4,
 "nbformat_minor": 4
}
