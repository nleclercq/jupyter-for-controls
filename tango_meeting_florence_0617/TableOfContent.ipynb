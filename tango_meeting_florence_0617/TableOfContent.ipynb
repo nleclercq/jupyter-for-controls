{
 "cells": [
  {
   "cell_type": "markdown",
   "metadata": {},
   "source": [
    "<img src=\"./resources/images/tango_controls_big_logo.png\" width=\"250\" height=\"100\">"
   ]
  },
  {
   "cell_type": "markdown",
   "metadata": {},
   "source": [
    "<div style=\"font-size:20px; text-align:center\">\n",
    "    31st Tango Meeting - Florence - June 2017\n",
    "</div>"
   ]
  },
  {
   "cell_type": "markdown",
   "metadata": {},
   "source": [
    "<div></div>"
   ]
  },
  {
   "cell_type": "markdown",
   "metadata": {},
   "source": [
    "<div></div>"
   ]
  },
  {
   "cell_type": "markdown",
   "metadata": {},
   "source": [
    "<img src=\"./resources/images/jupyter.png\" width=\"250\" height=\"100\">"
   ]
  },
  {
   "cell_type": "markdown",
   "metadata": {},
   "source": [
    "<div style=\"font-size:30px; text-align: center\">\n",
    "    <b>Jupyter: mixing CLI & GUI for beamline controls</b>\n",
    "</div>"
   ]
  },
  {
   "cell_type": "markdown",
   "metadata": {},
   "source": [
    "<div style=\"font-size:16px; text-align:center\">\n",
    "    N. Leclercq - Synchrotron SOLEIL - France\n",
    "</div>"
   ]
  },
  {
   "cell_type": "markdown",
   "metadata": {},
   "source": [
    "<div></div>"
   ]
  },
  {
   "cell_type": "markdown",
   "metadata": {},
   "source": [
    "[About this talk](notebooks/000.About.this.talk.ipynb)\n",
    "\n",
    "\n",
    "1. [Motivations](notebooks/010.Motivations.ipynb)\n",
    "2. [The Jupyter Ecosystem](notebooks/020.Jupyter.Ecosystem.ipynb)\n",
    "3. Use cases \n",
    "    * [common implementation tools](notebooks/030.UseCase.Design.Implementation.ipynb)\n",
    "    * [a live monitor for Tango attributes](notebooks/031.UseCase.TangoMonitors.ipynb) \n",
    "    * [a Jupyter interface for the SOLEIL scanning platorm](notebooks/032.UseCase.ScanningPlatform.Overview.ipynb)\n",
    "4. [Conclusions](notebooks/040.Conclusions.ipynb)\n",
    "5. [JupyterCon](notebooks/050.JupyterCon.ipynb)"
   ]
  }
 ],
 "metadata": {
  "kernelspec": {
   "display_name": "Python 3",
   "language": "python",
   "name": "python3"
  },
  "language_info": {
   "codemirror_mode": {
    "name": "ipython",
    "version": 3
   },
   "file_extension": ".py",
   "mimetype": "text/x-python",
   "name": "python",
   "nbconvert_exporter": "python",
   "pygments_lexer": "ipython3",
   "version": "3.7.6"
  }
 },
 "nbformat": 4,
 "nbformat_minor": 4
}
