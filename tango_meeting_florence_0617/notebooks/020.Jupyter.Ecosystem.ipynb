{
 "cells": [
  {
   "cell_type": "markdown",
   "metadata": {
    "slideshow": {
     "slide_type": "slide"
    }
   },
   "source": [
    "<div style=\"-webkit-column-count: 3; -moz-column-count: 3; column-count: 3; -webkit-column-rule: 1px dotted #e0e0e0; -moz-column-rule: 1px dotted #e0e0e0; column-rule: 1px dotted #e0e0e0\">\n",
    "    <div style=\"display: inline-block;\" >\n",
    "        <img src=\"../resources/images/tango_controls_logo.png\">\n",
    "    </div>\n",
    "    <div style=\"display: inline-block; font-size:18px;\">\n",
    "        <b>Jupyter: mixing CLI & GUI for beamline controls</b>\n",
    "    </div>\n",
    "</div>\n",
    "<div style=\"display: inline-block; font-size:12px;\">\n",
    "    N. Leclercq - 31st Tango Meeting - Florence - June 2017\n",
    "</div>"
   ]
  },
  {
   "cell_type": "markdown",
   "metadata": {},
   "source": [
    "# 2. The Jupyter Ecosystem\n",
    "\n",
    "## 2.1 A bit more than the Notebook... \n",
    "\n",
    "The notebook is the emerging part of the Jupyter architecture. See the [Jupyter documentation](http://jupyter.readthedocs.io/en/latest/architecture/visual_overview.html) for a complete definition of the involved software components. \n",
    "\n",
    "<img src=../resources/images/jupyter_ecosystem.png>\n",
    "\n",
    "\n",
    "## 2.2 The Jupyter Notebook\n",
    "\n",
    "The Jupyter docs says: _**notebook documents are** both **human-readable documents** containing the analysis description and the results (figures, tables, etc..) **as well as executable documents** which can be run to perform data analysis._\n",
    "\n",
    "The Jupyter notebook is a _**language agnostic evolution**_ of ipython notebook. Did you know that Jupyter stands for **Ju**lia-**py**thon-**R**?. There are today +60 [Jupyter kernels](https://github.com/jupyter/jupyter/wiki/Jupyter-kernels).\n",
    "\n",
    "### 2.2.1 How does it work?\n",
    "\n",
    "See [how jupyter works](http://jupyter.readthedocs.io/en/latest/architecture/how_jupyter_ipython_work.html) for detailed info. \n",
    "<img src=../resources/images/notebook_components.png>\n",
    "\n",
    "A notebook is organized in _**cells**_: \n",
    "* the _**human-readable**_ part of the document is rendered by _**markdown cells**_\n",
    "* the _**executable content**_ is taken in charge by _**code cells**_\n",
    "\n",
    "\n",
    "### 2.2.2 Markdown Cell\n",
    "* **markdown**\n",
    "\n",
    "    <img src=https://upload.wikimedia.org/wikipedia/commons/thumb/4/48/Markdown-mark.svg/260px-Markdown-mark.svg.png width=\"60\">\n",
    "               this text is actually rendered by a markdown cell! Just **double click** on it to edit.\n",
    "    \n",
    "* **html**\n",
    "    <div style=\"font-size:16px; text-align:center\">\n",
    "        some <b>centered</b> text with specified font <i>size</i> and <u>style</u>\n",
    "    </div>\n",
    "    <div style=\"font-size:16px; text-align:center\">\n",
    "        more examples in next slides\n",
    "    </div>\n",
    "     \n",
    "    \n",
    "* **latex**\n",
    "$$\\frac{u^{n+1}_i - u^n_i}{\\Delta t} = -\\frac{1}{2} \\left( \\left.\\frac{\\partial E}{\\partial x}\\right|^n_i + \\left.\\frac{\\partial E}{\\partial x}\\right|^n_i + \\frac{\\partial}{\\partial x} \\left[ A(u^{n+1}_i - u^n_i)\\right] \\right)$$\n",
    "\n",
    "### 2.2.3 Code Cell\n",
    "* code to be executed by the underlying kernel.\n",
    "* read/eval/print loop (REPL)\n",
    "<img src=\"../resources/images/NotebookFlow.svg\" width=500>"
   ]
  },
  {
   "cell_type": "code",
   "execution_count": null,
   "metadata": {},
   "outputs": [],
   "source": [
    "import datetime\n",
    "\n",
    "def wtii():\n",
    "    print(\"What time is it?\")\n",
    "    print(\"It's {}\".format(datetime.datetime.now().strftime('%H:%M:%S')))\n",
    "\n",
    "wtii()"
   ]
  },
  {
   "cell_type": "markdown",
   "metadata": {},
   "source": [
    "## 2.3 The ipywidgets \n",
    "\n",
    "**ipywidgets** are the official Jupyter UI widgets. See the [ipywidgets documentation](https://ipywidgets.readthedocs.io/en/latest/index.html) for details.\n",
    "\n",
    "What is the list of provided widgets? "
   ]
  },
  {
   "cell_type": "code",
   "execution_count": null,
   "metadata": {},
   "outputs": [],
   "source": [
    "from ipywidgets import Widget\n",
    "Widget.widget_types"
   ]
  },
  {
   "cell_type": "markdown",
   "metadata": {},
   "source": [
    "### 2.3.1 Advanced example: Grand canyon terrain modeling.\n",
    "\n",
    "Thanks to [**Sylvain Corlay**](https://github.com/SylvainCorlay) for the following demo.\n",
    "Makes use of [gdal](http://www.gdal.org) - a geospatial gata abstraction library."
   ]
  },
  {
   "cell_type": "code",
   "execution_count": null,
   "metadata": {},
   "outputs": [],
   "source": [
    "from pythreejs import *\n",
    "import numpy as np\n",
    "import gdal as gd\n",
    "from __future__ import print_function\n",
    "from ipywidgets import Controller, FloatText, HTML, VBox\n",
    "from pythreejs.install import install\n",
    "from traitlets.traitlets import link, dlink\n",
    "\n",
    "gc_ds = gd.Open('../resources/images/gc_dem.tif')\n",
    "dem = gc_ds.ReadAsArray()[::20, ::20]\n",
    "gt = gc_ds.GetGeoTransform()\n",
    "\n",
    "z = (dem - np.mean(dem)) / 1000\n",
    "nx, ny = z.shape\n",
    "\n",
    "surf_g = SurfaceGeometry(z=list(z.flat), height_segments=nx - 1, width_segments=ny - 1)\n",
    "surf = Mesh(geometry=surf_g, material=LambertMaterial(map=height_texture(z, colormap='terrain')), scale=(10, 10, 1))\n",
    "scene = Scene(children=[AmbientLight(color='#777777'),\n",
    "                        surf, \n",
    "                        DirectionalLight(color='white', position=[3, 5, 1], intensity=0.5)])\n",
    "\n",
    "camera = PerspectiveCamera(position=[0, 10, 10], up=[0, 0, 1], \n",
    "                      children=[DirectionalLight(color='white', position=[3, 5, 1], intensity=0.5)],\n",
    "                      aspect=2)\n",
    "width = 950\n",
    "height = 950 / camera.aspect\n",
    "camera.look_at(camera.position, (1, 0, 0))\n",
    "fly_controls = FlyControls(controlling=camera)\n",
    "renderer = Renderer(camera=camera, scene=scene, width=str(width), height=str(height), controls=[fly_controls])"
   ]
  },
  {
   "cell_type": "code",
   "execution_count": null,
   "metadata": {},
   "outputs": [],
   "source": [
    "camera.position = [15, 25, 20]\n",
    "camera.look_at(camera.position, (1, 1, 1))"
   ]
  },
  {
   "cell_type": "code",
   "execution_count": null,
   "metadata": {},
   "outputs": [],
   "source": [
    "renderer"
   ]
  },
  {
   "cell_type": "markdown",
   "metadata": {},
   "source": [
    "#### Could ipywidgets help us to adjust the camera position? \n",
    "#### Solution #1"
   ]
  },
  {
   "cell_type": "code",
   "execution_count": null,
   "metadata": {},
   "outputs": [],
   "source": [
    "from ipywidgets import FloatSlider, HBox, VBox\n",
    "\n",
    "x_slider, y_slider, z_slider = (FloatSlider(description='x', min=10.0, max=20.0, orientation='horizontal'),\n",
    "                                FloatSlider(description='y', min=10.0, max=20.0, orientation='horizontal'),\n",
    "                                FloatSlider(description='z', min=10.0, max=20.0, orientation='horizontal'))\n",
    "\n",
    "def update(change):\n",
    "    camera.position = [x_slider.value, y_slider.value, z_slider.value]\n",
    "    \n",
    "x_slider.observe(update, names=['value'])\n",
    "y_slider.observe(update, names=['value'])\n",
    "z_slider.observe(update, names=['value'])\n",
    "\n",
    "VBox([HBox([x_slider, y_slider, z_slider]), renderer])"
   ]
  },
  {
   "cell_type": "markdown",
   "metadata": {},
   "source": [
    "#### Solution #2"
   ]
  },
  {
   "cell_type": "code",
   "execution_count": null,
   "metadata": {},
   "outputs": [],
   "source": [
    "pad = Controller()\n",
    "pad"
   ]
  },
  {
   "cell_type": "code",
   "execution_count": null,
   "metadata": {},
   "outputs": [],
   "source": [
    "factor = 10\n",
    "def affine(constant, factor):\n",
    "    return lambda x: constant + factor * x\n",
    "\n",
    "pad.links = []\n",
    "\n",
    "def setup():\n",
    "    if pad.connected:\n",
    "        pad.links.append(dlink((pad.axes[1], 'value'), (fly_controls, 'pitch'), affine(0.0, factor)))\n",
    "        pad.links.append(dlink((pad.axes[0], 'value'), (fly_controls, 'roll'), affine(0.0, -factor)))\n",
    "        pad.links.append(dlink((pad.axes[3], 'value'), (fly_controls, 'forward_speed'), affine(0.0, 1 * factor)))\n",
    "        pad.links.append(dlink((pad.axes[2], 'value'), (fly_controls, 'yaw'), affine(0.0, factor)))\n",
    "        pad.links.append(dlink((pad.buttons[5], 'value'), (surf, 'scale'), lambda x: (10, 10, 1 - x)))\n",
    "        print(\"gamepad up & ready!\")\n",
    "    if not pad.connected:\n",
    "        for l in pad.links:\n",
    "            l.unlink()\n",
    "        pad.links = []\n",
    "        print(\"gamepad off!\")\n",
    "\n",
    "pad.observe(setup, names=['connected'])\n",
    "\n",
    "setup()"
   ]
  },
  {
   "cell_type": "code",
   "execution_count": null,
   "metadata": {},
   "outputs": [],
   "source": [
    "import ipywidgets as widgets\n",
    "list = ['P0', 'P1', 'P2', 'P3', 'P4']\n",
    "children = [widgets.Text(description=name) for name in list]\n",
    "tab = widgets.Tab(children=children)\n",
    "tab"
   ]
  }
 ],
 "metadata": {
  "kernelspec": {
   "display_name": "Python 3",
   "language": "python",
   "name": "python3"
  },
  "language_info": {
   "codemirror_mode": {
    "name": "ipython",
    "version": 3
   },
   "file_extension": ".py",
   "mimetype": "text/x-python",
   "name": "python",
   "nbconvert_exporter": "python",
   "pygments_lexer": "ipython3",
   "version": "3.7.7"
  },
  "widgets": {
   "application/vnd.jupyter.widget-state+json": {
    "state": {},
    "version_major": 1,
    "version_minor": 0
   }
  }
 },
 "nbformat": 4,
 "nbformat_minor": 4
}
