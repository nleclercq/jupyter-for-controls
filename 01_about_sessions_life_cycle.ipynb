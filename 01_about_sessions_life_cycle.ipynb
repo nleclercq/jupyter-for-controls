{
 "cells": [
  {
   "cell_type": "markdown",
   "metadata": {},
   "source": [
    "# bokeh in the notebook: managing resources lifecycle \n",
    "\n",
    "\n",
    "## About this notebook\n",
    "\n",
    "This notebook belongs to a series of small projects which aim is to evaluate the [Jupyter](http://jupyter.org/) ecosystem for science experiments control. The main idea is to use the _Juypter notebook_ as a convergence platform in order to offer a fully featured environment to scientists. \n",
    "\n",
    "## About bokeh\n",
    "\n",
    "Experiments control requires both static and dynamic (i.e live) data visualization. Since Jupyter doesn't provide any 'official' data visualization solution, we need to select one. Among the available solutions, [bokeh](http://bokeh.pydata.org/en/latest) presents the highest potential for our application.\n",
    "\n",
    "Bokeh as been selected for its:\n",
    "1. [built-in notebook integration](http://bokeh.pydata.org/en/latest/docs/user_guide/notebook.html)\n",
    "2. built-in [data streaming](http://bokeh.pydata.org/en/latest/docs/reference/models/sources.html#bokeh.models.sources.ColumnDataSource.patch) [features](http://bokeh.pydata.org/en/latest/docs/reference/models/sources.html#bokeh.models.sources.ColumnDataSource.stream) for live plots update \n",
    "3. ability to add [custom or specialized behaviors](http://bokeh.pydata.org/en/latest/docs/user_guide/interaction/callbacks.html) in response to property changes and other events\n",
    "4. [graphics quality](http://bokeh.pydata.org/en/latest/docs/gallery.html#gallery)\n",
    "\n",
    "Have a look to this [quickstart](http://bokeh.pydata.org/en/latest/docs/user_guide/quickstart.html) for a bokeh overview.\n",
    "\n",
    "## Topic of the day\n",
    "\n",
    "How to properly close a BokehSession and release the associated resources. BokehSession is not part of bokeh - it belongs to our set of classes. "
   ]
  },
  {
   "cell_type": "markdown",
   "metadata": {},
   "source": [
    "### BokehSession class"
   ]
  },
  {
   "cell_type": "code",
   "execution_count": null,
   "metadata": {},
   "outputs": [],
   "source": [
    "from common.session import BokehSession"
   ]
  },
  {
   "cell_type": "markdown",
   "metadata": {},
   "source": [
    "### MySession class\n",
    "A user specialization of the `BokehSession`."
   ]
  },
  {
   "cell_type": "code",
   "execution_count": null,
   "metadata": {},
   "outputs": [],
   "source": [
    "import numpy as np\n",
    "\n",
    "from bokeh.plotting import figure\n",
    "from bokeh.plotting.figure import Figure\n",
    "from bokeh.models.glyphs import Rect\n",
    "from bokeh.models import ColumnDataSource\n",
    "from bokeh.models.widgets import Slider\n",
    "from bokeh.layouts import layout, column\n",
    "\n",
    "class MySession(BokehSession):\n",
    "    \n",
    "    def __init__(self, uuid=None):\n",
    "        BokehSession.__init__(self, uuid)\n",
    "        self.callback_period = 1.\n",
    "        self._np = 100\n",
    "        self._widgets_layout = None\n",
    "        columns = dict()\n",
    "        columns['x'] = self._gen_x_scale()\n",
    "        columns['y'] = self._gen_y_random_data()\n",
    "        self._cds = ColumnDataSource(data=columns)\n",
    "\n",
    "    def _gen_x_scale(self):\n",
    "        \"\"\"x data\"\"\"\n",
    "        return np.linspace(1, self._np, num=self._np, endpoint=True)\n",
    "    \n",
    "    def _gen_y_random_data(self):\n",
    "        \"\"\"y data\"\"\"\n",
    "        return np.random.rand(self._np)\n",
    "    \n",
    "    def __on_update_period_change(self, attr, old, new):\n",
    "        \"\"\"called when the user changes the refresh period using the dedicated slider\"\"\"\n",
    "        self.update_callback_period(new)\n",
    "        \n",
    "    def __on_num_points_change(self, attr, old, new):\n",
    "        \"\"\"called when the user changes the number of points using the dedicated slider\"\"\"\n",
    "        self._np = int(new)\n",
    "\n",
    "    def setup_document(self):\n",
    "        \"\"\"setup the session model then return it\"\"\"\n",
    "        # a slider to control the update period\n",
    "        rrs = Slider(start=0.25, \n",
    "                     end=2, \n",
    "                     step=0.25, \n",
    "                     value=self.callback_period, \n",
    "                     title=\"Updt.period [s]\",)\n",
    "        rrs.on_change(\"value\", self.__on_update_period_change)\n",
    "        # a slider to control the number of points\n",
    "        nps = Slider(start=0, \n",
    "                     end=1000, \n",
    "                     step=10, \n",
    "                     value=self._np, \n",
    "                     title=\"Num.points\")\n",
    "        nps.on_change(\"value\", self.__on_num_points_change)\n",
    "        # the figure and its content\n",
    "        p = figure(plot_width=650, plot_height=200)\n",
    "        p.toolbar_location = 'above'\n",
    "        p.line(x='x', y='y', source=self._cds, color=\"navy\", alpha=0.5)\n",
    "        # widgets are placed into a dedicated layout\n",
    "        self._widgets_layout = column(nps, rrs)\n",
    "        # arrange all items into a layout then return it as the session model\n",
    "        self.document.add_root(layout([[self._widgets_layout, p]]))\n",
    "        # start periodic activity\n",
    "        self.start()\n",
    "\n",
    "    def periodic_callback(self):\n",
    "        \"\"\"periodic activity\"\"\"\n",
    "        self._cds.data.update(x=self._gen_x_scale(), y=self._gen_y_random_data())"
   ]
  },
  {
   "cell_type": "markdown",
   "metadata": {},
   "source": [
    "### Why is it so important to name a session?\n",
    "\n",
    "To be written... "
   ]
  },
  {
   "cell_type": "code",
   "execution_count": null,
   "metadata": {},
   "outputs": [],
   "source": [
    "# ugly but mandatory: select the context in which we are running: NOTEBOOK or LAB\n",
    "import os\n",
    "os.environ[\"JUPYTER_CONTEXT\"] = \"LAB\""
   ]
  },
  {
   "cell_type": "code",
   "execution_count": null,
   "metadata": {},
   "outputs": [],
   "source": [
    "import logging\n",
    "logging.getLogger('bokeh.server').setLevel(logging.DEBUG)\n",
    "logging.getLogger('bokeh.server.tornado').setLevel(logging.ERROR)\n",
    "logging.getLogger('common.session').setLevel(logging.DEBUG)\n",
    "\n",
    "s1 = MySession('s1')\n",
    "s1.open()\n",
    "\n",
    "BokehSession.print_repository_status()"
   ]
  },
  {
   "cell_type": "code",
   "execution_count": null,
   "metadata": {},
   "outputs": [],
   "source": [
    "s1.close()"
   ]
  },
  {
   "cell_type": "code",
   "execution_count": null,
   "metadata": {},
   "outputs": [],
   "source": [
    "BokehSession.print_repository_status()"
   ]
  }
 ],
 "metadata": {
  "kernelspec": {
   "display_name": "Python 3",
   "language": "python",
   "name": "python3"
  },
  "language_info": {
   "codemirror_mode": {
    "name": "ipython",
    "version": 3
   },
   "file_extension": ".py",
   "mimetype": "text/x-python",
   "name": "python",
   "nbconvert_exporter": "python",
   "pygments_lexer": "ipython3",
   "version": "3.7.7"
  }
 },
 "nbformat": 4,
 "nbformat_minor": 4
}
