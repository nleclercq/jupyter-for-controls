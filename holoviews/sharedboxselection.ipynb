{
 "cells": [
  {
   "cell_type": "markdown",
   "metadata": {},
   "source": [
    "#### Some imports"
   ]
  },
  {
   "cell_type": "code",
   "execution_count": null,
   "metadata": {},
   "outputs": [],
   "source": [
    "import numpy as np\n",
    "import xarray as xr\n",
    "import holoviews as hv\n",
    "hv.extension('bokeh')"
   ]
  },
  {
   "cell_type": "markdown",
   "metadata": {},
   "source": [
    "#### Some data (xarray.Dataset)"
   ]
  },
  {
   "cell_type": "code",
   "execution_count": null,
   "metadata": {},
   "outputs": [],
   "source": [
    "xvals = np.linspace(-5,5,256)\n",
    "yvals = np.linspace(-5,5,256)\n",
    "xs,ys = np.meshgrid(xvals, yvals)\n",
    "\n",
    "def waves_image(alpha, beta):\n",
    "    return np.sin(((ys/alpha)**alpha+beta)*xs)\n",
    "\n",
    "data_vars = {\n",
    "    'i1': (['y', 'x'], waves_image(1., 1.)),\n",
    "    'i2': (['y', 'x'], waves_image(1., 2.)),\n",
    "    'i3': (['y', 'x'], waves_image(1., 3.)),\n",
    "    'i4': (['y', 'x'], waves_image(1., 4.))\n",
    "}\n",
    "coords = {\n",
    "    'x': (['x'], xvals, {'units':'a.u.'}), \n",
    "    'y': (['y'], yvals, {'units':'a.u'})\n",
    "}\n",
    "xrds = xr.Dataset(data_vars=data_vars, coords=coords)\n",
    "xrds"
   ]
  },
  {
   "cell_type": "markdown",
   "metadata": {},
   "source": [
    "Helper function: bounds_to_text -> return *bounds* coords has a *hv.Text*"
   ]
  },
  {
   "cell_type": "code",
   "execution_count": null,
   "metadata": {},
   "outputs": [],
   "source": [
    "def bounds_to_text(bounds):\n",
    "    xc = bounds[0] + (bounds[2] - bounds[0]) / 2\n",
    "    yc = bounds[1] + (bounds[3] - bounds[1]) / 2\n",
    "    txt = \"x0: {:.2f}\\ny0: {:.2f}\\nx1: {:.2f}\\ny1: {:.2f}\".format(bounds[0], bounds[1], bounds[2], bounds[3])\n",
    "    return hv.Text(xc, yc, txt, fontsize=10, halign='center', valign='center')"
   ]
  },
  {
   "cell_type": "markdown",
   "metadata": {},
   "source": [
    "callable for *hv.DynamicMap*"
   ]
  },
  {
   "cell_type": "code",
   "execution_count": null,
   "metadata": {},
   "outputs": [],
   "source": [
    "def selection_callback(bounds):\n",
    "    return (hv.Bounds(bounds) * bounds_to_text(bounds))"
   ]
  },
  {
   "cell_type": "markdown",
   "metadata": {},
   "source": [
    "overlay *box_select* bounds on a *hv.HoloMap* containing the images stored into the *xarray.Dataset*"
   ]
  },
  {
   "cell_type": "code",
   "execution_count": null,
   "metadata": {},
   "outputs": [],
   "source": [
    "%opts Image (cmap='viridis') [width=700 height=450 toolbar='above']\n",
    "images = {en:hv.Image(ed) for en, ed in xrds.data_vars.items()}\n",
    "hm = hv.HoloMap(images, kdims=['img'])\n",
    "box = hv.streams.BoundsXY(source=hm, bounds=(0,0,0,0))\n",
    "bounds = hv.DynamicMap(selection_callback, streams=[box])\n",
    "hm * bounds"
   ]
  },
  {
   "cell_type": "markdown",
   "metadata": {},
   "source": [
    "overlay *box_select* bounds on a *hv.NdLayout* containing the images stored into the *xarray.Dataset*"
   ]
  },
  {
   "cell_type": "code",
   "execution_count": null,
   "metadata": {},
   "outputs": [],
   "source": [
    "%opts Image [width=500 height=250]\n",
    "\n",
    "from holoviews.plotting.bokeh.callbacks import BoundsCallback\n",
    "hv.streams.Stream._callbacks['bokeh'][hv.streams.BoundsXY] = BoundsCallback\n",
    "\n",
    "class ImagesSelection(object):\n",
    "    def __init__(self, imgs):\n",
    "        try:\n",
    "            self.bounds = (0,0,0,0) \n",
    "            self.dynamic_map = dict()\n",
    "            self.calls = list()\n",
    "            for k, i in imgs.items():\n",
    "                stream = hv.streams.BoundsXY(source=i, bounds=(0,0,0,0))\n",
    "                self.dynamic_map[k] = hv.DynamicMap(self.callback_factory(k), streams=[stream])\n",
    "            self.bounds = hv.HoloMap(self.dynamic_map, kdims=imgs.kdims)\n",
    "        except Exception as e:\n",
    "            print(e)\n",
    "            \n",
    "    def callback_factory(self, key):\n",
    "        def callback(bounds):\n",
    "            print('in callback_factory.callback: {}'.format(bounds))\n",
    "            try:\n",
    "                if self.bounds != bounds:\n",
    "                    self.bounds = bounds\n",
    "                    self.calls.append('{}: {}'.format(key, bounds))\n",
    "                    for k, dm in self.dynamic_map.items():\n",
    "                        if k != key:\n",
    "                            dm.event(bounds=bounds)\n",
    "            except Exception as e:\n",
    "                print(e)\n",
    "            return (hv.Bounds(self.bounds) * bounds_to_text(bounds))\n",
    "        return callback\n",
    "    \n",
    "    def reset(self):\n",
    "        self.bounds = (0,0,0,0) \n",
    "        for dm in self.dynamic_map.values():\n",
    "            dm.event(bounds=self.bounds)\n",
    "        \n",
    "    def __mul__(self, hvobj):\n",
    "        return hvobj * self.bounds\n",
    "        \n",
    "    def __rmul__(self, hvobj):\n",
    "        return self.__mul__(hvobj)\n",
    "    \n",
    "images = hv.HoloMap({n:hv.Image(d) for n, d in xrds.data_vars.items()}, kdims=['img'])\n",
    "\n",
    "selection = ImagesSelection(images)\n",
    "\n",
    "hv.NdLayout(selection * images).cols(2)"
   ]
  },
  {
   "cell_type": "code",
   "execution_count": null,
   "metadata": {},
   "outputs": [],
   "source": [
    "selection.reset()"
   ]
  },
  {
   "cell_type": "code",
   "execution_count": null,
   "metadata": {},
   "outputs": [],
   "source": [
    "from holoviews import streams\n",
    "from holoviews import opts\n",
    "\n",
    "xs = np.linspace(-3, 3, 400)\n",
    "\n",
    "def function(xs, time):\n",
    "    \"Some time varying function\"\n",
    "    return np.exp(np.sin(xs+np.pi/time))\n",
    "\n",
    "def integral(limit, time):\n",
    "    limit = -3 if limit is None else np.clip(limit,-3,3)\n",
    "    curve = hv.Curve((xs, function(xs, time)))[limit:]\n",
    "    area  = hv.Area ((xs, function(xs, time)))[:limit]\n",
    "    summed = area.dimension_values('y').sum() * 0.015  # Numeric approximation\n",
    "    return (area * curve * hv.VLine(limit) * hv.Text(limit + 0.8, 2.0, '%.2f' % summed))\n",
    "\n",
    "integral_streams = [\n",
    "    streams.Stream.define('Time', time=1.0)(),\n",
    "    streams.PointerX().rename(x='limit')]\n",
    "\n",
    "integral_dmap = hv.DynamicMap(integral, streams=integral_streams)\n",
    "\n",
    "integral_dmap.opts(\n",
    "    opts.Area(color='#fff8dc', line_width=2),\n",
    "    opts.Curve(color='black'),\n",
    "    opts.VLine(color='red'))"
   ]
  },
  {
   "cell_type": "code",
   "execution_count": null,
   "metadata": {},
   "outputs": [],
   "source": []
  }
 ],
 "metadata": {
  "kernelspec": {
   "display_name": "Python 3",
   "language": "python",
   "name": "python3"
  },
  "language_info": {
   "codemirror_mode": {
    "name": "ipython",
    "version": 3
   },
   "file_extension": ".py",
   "mimetype": "text/x-python",
   "name": "python",
   "nbconvert_exporter": "python",
   "pygments_lexer": "ipython3",
   "version": "3.7.7"
  }
 },
 "nbformat": 4,
 "nbformat_minor": 4
}
