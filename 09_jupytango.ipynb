{
 "cells": [
  {
   "cell_type": "markdown",
   "metadata": {},
   "source": [
    "\n",
    "# **The jupyTango magics**\n",
    "\n",
    "jupyTango defines two jupyter magics (more to come): `%tango_monitor` and `%plot_tango_attribute`."
   ]
  },
  {
   "cell_type": "markdown",
   "metadata": {},
   "source": [
    "The `%tango_monitor` - or its alias `%tgm` - provides us with a live/asynchronous tango attribute monitor."
   ]
  },
  {
   "cell_type": "code",
   "execution_count": null,
   "metadata": {},
   "outputs": [],
   "source": [
    "tgm sys/tg_test/1/long_image_ro"
   ]
  },
  {
   "cell_type": "markdown",
   "metadata": {},
   "source": [
    "The`%plot_tango_attribute` or `%pta` offers a static/synchronous plot of any tango attribute (snapshot)."
   ]
  },
  {
   "cell_type": "code",
   "execution_count": null,
   "metadata": {},
   "outputs": [],
   "source": [
    "pta sys/tg_test/1/long_image"
   ]
  },
  {
   "cell_type": "markdown",
   "metadata": {},
   "source": [
    "Thanks to itango, these magics provide device and attribute completion using the 'TAB' key. For instance, type `tgm + <TAB>` ina notebook cell to select the Tango device, then type <TAB> again to select the attribute you want to monitor."
   ]
  },
  {
   "cell_type": "code",
   "execution_count": null,
   "metadata": {},
   "outputs": [],
   "source": [
    "tgm "
   ]
  },
  {
   "cell_type": "markdown",
   "metadata": {},
   "source": [
    "Type `tango_monitor?` or `plot_tango_attribute?` for inline documentation (i.e. optional parameter details)."
   ]
  },
  {
   "cell_type": "code",
   "execution_count": null,
   "metadata": {},
   "outputs": [],
   "source": [
    "tango_monitor?"
   ]
  },
  {
   "cell_type": "markdown",
   "metadata": {},
   "source": [
    "You can obviously use pytango as you would do in a python console or script (see examples below). Note that some itango also provide name completion for `tango.Device`, `tango.DeviceProxy`,  `tango.Attribute` and`tango.AttributeProxy`. \n",
    "\n",
    "For instance, type `tt = tango.DeviceProxy(\" + <TAB>` to select a device along the list of exported ones."
   ]
  },
  {
   "cell_type": "code",
   "execution_count": null,
   "metadata": {},
   "outputs": [],
   "source": [
    "import tango\n",
    "tt = tango.DeviceProxy(\"sys/tg_test/1\")"
   ]
  },
  {
   "cell_type": "code",
   "execution_count": null,
   "metadata": {},
   "outputs": [],
   "source": [
    "tt.state()"
   ]
  },
  {
   "cell_type": "code",
   "execution_count": null,
   "metadata": {},
   "outputs": [],
   "source": [
    "tt.ampli"
   ]
  }
 ],
 "metadata": {
  "kernelspec": {
   "display_name": "jupytango",
   "language": "python",
   "name": "jupytango"
  },
  "language_info": {
   "codemirror_mode": {
    "name": "ipython",
    "version": 3
   },
   "file_extension": ".py",
   "mimetype": "text/x-python",
   "name": "python",
   "nbconvert_exporter": "python",
   "pygments_lexer": "ipython3",
   "version": "3.7.7"
  }
 },
 "nbformat": 4,
 "nbformat_minor": 4
}
