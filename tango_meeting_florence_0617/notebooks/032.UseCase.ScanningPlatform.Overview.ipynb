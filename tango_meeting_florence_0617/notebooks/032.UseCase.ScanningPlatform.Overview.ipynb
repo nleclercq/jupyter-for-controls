{
 "cells": [
  {
   "cell_type": "markdown",
   "metadata": {
    "slideshow": {
     "slide_type": "slide"
    }
   },
   "source": [
    "<div style=\"-webkit-column-count: 3; -moz-column-count: 3; column-count: 3; -webkit-column-rule: 1px dotted #e0e0e0; -moz-column-rule: 1px dotted #e0e0e0; column-rule: 1px dotted #e0e0e0\">\n",
    "    <div style=\"display: inline-block;\" >\n",
    "        <img src=\"../resources/images/tango_controls_logo.png\" width=\"14\" height=\"14\">\n",
    "    </div>\n",
    "    <div style=\"display: inline-block; font-size:18px;\">\n",
    "        <b>Jupyter: mixing CLI & GUI for beamline controls</b>\n",
    "    </div>\n",
    "</div>\n",
    "<div style=\"display: inline-block; font-size:12px;\">\n",
    "    N. Leclercq - 31st Tango Meeting - Florence - June 2017\n",
    "</div>"
   ]
  },
  {
   "cell_type": "code",
   "execution_count": 2,
   "metadata": {},
   "outputs": [
    {
     "data": {
      "text/html": [
       "<script src='//code.jquery.com/jquery-3.3.1.min.js'></script>\n",
       "<script>\n",
       "code_show=true; \n",
       "function code_toggle() {\n",
       " if (code_show){\n",
       " $('div.input').hide();\n",
       " $('div .jp-CodeCell .jp-Cell-inputWrapper').hide();\n",
       " } else {\n",
       " $('div.input').show();\n",
       " $('div .jp-CodeCell .jp-Cell-inputWrapper').show();\n",
       " }\n",
       " code_show = !code_show\n",
       "}\n",
       "$( document ).ready(code_toggle);\n",
       "</script>\n",
       "The raw code for this IPython notebook is by default hidden for easier reading.\n",
       "To toggle on/off the raw code, click <a href=\"javascript:code_toggle()\">here</a>\n"
      ],
      "text/plain": [
       "<IPython.core.display.HTML object>"
      ]
     },
     "metadata": {},
     "output_type": "display_data"
    }
   ],
   "source": [
    "%%HTML\n",
    "<script src='//code.jquery.com/jquery-3.3.1.min.js'></script>\n",
    "<script>\n",
    "code_show=true; \n",
    "function code_toggle() {\n",
    " if (code_show){\n",
    " $('div.input').hide();\n",
    " $('div .jp-CodeCell .jp-Cell-inputWrapper').hide();\n",
    " } else {\n",
    " $('div.input').show();\n",
    " $('div .jp-CodeCell .jp-Cell-inputWrapper').show();\n",
    " }\n",
    " code_show = !code_show\n",
    "}\n",
    "$( document ).ready(code_toggle);\n",
    "</script>\n",
    "The raw code for this IPython notebook is by default hidden for easier reading.\n",
    "To toggle on/off the raw code, click <a href=\"javascript:code_toggle()\">here</a>"
   ]
  },
  {
   "cell_type": "markdown",
   "metadata": {},
   "source": [
    "# 3.3 Jupyter use case example: a scanning platform interface\n",
    "\n",
    "\n",
    "## 3.3.1 What does \"scanning\" mean here?\n",
    "On a synchrotron beamline, science comes from the interaction between matter (i.e. a sample) and synchrotron light (i.e. the beam delivered by the storage ring). \n",
    "\n",
    "A scan is the nD data acquisition process involving actuators (i.e. movables, variables,...) and sensors (i.e. any data source, mostly detectors).   \n",
    "\n",
    "#### An example of experimental setup: continuous 2D scan "
   ]
  },
  {
   "cell_type": "code",
   "execution_count": 2,
   "metadata": {
    "slideshow": {
     "slide_type": "subslide"
    }
   },
   "outputs": [
    {
     "data": {
      "text/html": [
       "<video width=\"800\" height=\"400\" controls loop>\n",
       "  <source src=\"../resources/videos/FlyscanPrinciple.mp4\" type=\"video/mp4\">\n",
       "</video>"
      ],
      "text/plain": [
       "<IPython.core.display.HTML object>"
      ]
     },
     "metadata": {},
     "output_type": "display_data"
    }
   ],
   "source": [
    "%%HTML\n",
    "<video width=\"800\" height=\"400\" controls loop>\n",
    "  <source src=\"../resources/videos/FlyscanPrinciple.mp4\" type=\"video/mp4\">\n",
    "</video>"
   ]
  },
  {
   "cell_type": "markdown",
   "metadata": {
    "slideshow": {
     "slide_type": "subslide"
    }
   },
   "source": [
    "## 3.3.2 Underlying HW & SW architecture: data acquisition"
   ]
  },
  {
   "cell_type": "code",
   "execution_count": 12,
   "metadata": {},
   "outputs": [
    {
     "data": {
      "text/html": [
       "<video width=\"700\" height=\"500\" controls loop>\n",
       "  <source src=\"../resources/videos/FlyscanPrincipleHwSwArch.mp4\" type=\"video/mp4\">\n",
       "</video>"
      ],
      "text/plain": [
       "<IPython.core.display.HTML object>"
      ]
     },
     "metadata": {},
     "output_type": "display_data"
    }
   ],
   "source": [
    "%%HTML\n",
    "<video width=\"700\" height=\"500\" controls loop>\n",
    "  <source src=\"../resources/videos/FlyscanPrincipleHwSwArch.mp4\" type=\"video/mp4\">\n",
    "</video>"
   ]
  },
  {
   "cell_type": "markdown",
   "metadata": {},
   "source": [
    "## 3.3.3 Underlying HW & SW architecture: online data processing and visualization\n",
    "<img src=\"../resources/images/FlyScanViewer.png\" width=\"700\" height=\"500\">\n",
    "\n",
    "## 3.3.4 What's the scanning platform interface supposed to provide?\n",
    "* tools to configure, start, monitor and abort a scan\n",
    "    * scan configuration:\n",
    "        * main parameters: e.g. scan domain, pixel size, integration-time/pixel, ...  \n",
    "        * subsystems configuration: data recording, online data processing, ... \n",
    "    * scan monitoring:\n",
    "        * global system state overview: devices health, logging, ... \n",
    "        * experiment validation: soft real-time data [processing and] visualization \n",
    "* tools to enhance user experience  \n",
    "    * e.g. absolute localization in sample\n",
    "    * e.g. scan domain specification from sample image   \n",
    "    \n",
    "## 3.3.5 So, finally, what does this interface look like?\n",
    "Generic (i.e. dynamic) interface - 100% based on scan configuration introspection. \n",
    "\n",
    "* **scan parameters**\n",
    "<img src=\"../resources/images/fs_gui_params.png\">\n",
    "* **sensors selection**\n",
    "<img src=\"../resources/images/fs_gui_sensors.png\">\n",
    "* **scan actors monitoring**\n",
    "<img src=\"../resources/images/fs_gui_devices_monitoring.png\">"
   ]
  },
  {
   "cell_type": "code",
   "execution_count": 13,
   "metadata": {},
   "outputs": [
    {
     "data": {
      "text/html": [
       "<video width=\"800\" height=\"400\" controls>\n",
       "  <source src=\"../resources/videos/Scanning.Interface.1.mp4\" type=\"video/mp4\">\n",
       "</video>"
      ],
      "text/plain": [
       "<IPython.core.display.HTML object>"
      ]
     },
     "metadata": {},
     "output_type": "display_data"
    }
   ],
   "source": [
    "%%HTML\n",
    "<video width=\"800\" height=\"400\" controls>\n",
    "  <source src=\"../resources/videos/Scanning.Interface.1.mp4\" type=\"video/mp4\">\n",
    "</video>"
   ]
  },
  {
   "cell_type": "code",
   "execution_count": null,
   "metadata": {
    "collapsed": true,
    "jupyter": {
     "outputs_hidden": true
    }
   },
   "outputs": [],
   "source": []
  }
 ],
 "metadata": {
  "kernelspec": {
   "display_name": "Python 3",
   "language": "python",
   "name": "python3"
  },
  "language_info": {
   "codemirror_mode": {
    "name": "ipython",
    "version": 3
   },
   "file_extension": ".py",
   "mimetype": "text/x-python",
   "name": "python",
   "nbconvert_exporter": "python",
   "pygments_lexer": "ipython3",
   "version": "3.7.6"
  },
  "widgets": {
   "application/vnd.jupyter.widget-state+json": {
    "state": {},
    "version_major": 1,
    "version_minor": 0
   }
  }
 },
 "nbformat": 4,
 "nbformat_minor": 4
}
