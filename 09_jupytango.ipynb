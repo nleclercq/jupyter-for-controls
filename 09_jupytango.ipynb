{
 "cells": [
  {
   "cell_type": "markdown",
   "metadata": {
    "tags": []
   },
   "source": [
    "\n",
    "# **The jupyTango environment**\n",
    "\n",
    "### The jupyTango magics\n",
    "jupyTango defines two jupyter magics (more to come): `%tango_monitor` (%tgm) and `%plot_tango_attribute` (%pta)."
   ]
  },
  {
   "cell_type": "markdown",
   "metadata": {},
   "source": [
    "The`%plot_tango_attribute` (or `%pta`) generates a static/synchronous plot of any tango attribute (snapshot)."
   ]
  },
  {
   "cell_type": "code",
   "execution_count": null,
   "metadata": {},
   "outputs": [],
   "source": [
    "pta -w 300 -h 300 sys/tg_test/1/long_image_ro"
   ]
  },
  {
   "cell_type": "code",
   "execution_count": null,
   "metadata": {},
   "outputs": [],
   "source": [
    "pta -w 900 -h 200 sys/tg_test/1/long_spectrum_ro"
   ]
  },
  {
   "cell_type": "markdown",
   "metadata": {},
   "source": [
    "The `%tango_monitor` - or its alias `%tgm` - provides us with a live/asynchronous minitor for any tango attribute."
   ]
  },
  {
   "cell_type": "code",
   "execution_count": null,
   "metadata": {},
   "outputs": [],
   "source": [
    "tgm -w 1200 sys/tg_test/1/double_scalar"
   ]
  },
  {
   "cell_type": "code",
   "execution_count": null,
   "metadata": {},
   "outputs": [],
   "source": [
    "tgm -w 1200 sys/tg_test/1/long_spectrum_ro"
   ]
  },
  {
   "cell_type": "code",
   "execution_count": null,
   "metadata": {},
   "outputs": [],
   "source": [
    "tgm -w 500 -h 500 sys/tg_test/1/long_image_ro"
   ]
  },
  {
   "cell_type": "markdown",
   "metadata": {},
   "source": [
    "Thanks to itango, these magics provide device and attribute completion using the 'TAB' key. \n",
    "\n",
    "For instance, type `tgm + <TAB>` in a notebook cell to select the Tango device, then type <TAB> again to select the attribute you want to monitor.\n",
    "    \n",
    "Type `tango_monitor?` or `plot_tango_attribute?` for inline documentation (i.e. optional parameter details)."
   ]
  },
  {
   "cell_type": "code",
   "execution_count": null,
   "metadata": {},
   "outputs": [],
   "source": [
    "tango_monitor?"
   ]
  },
  {
   "cell_type": "markdown",
   "metadata": {},
   "source": [
    "You can obviously use pytango as you would do in a python console or script (see examples below). Note that some itango also provide name completion for `tango.Device`, `tango.DeviceProxy`,  `tango.Attribute` and`tango.AttributeProxy`. \n",
    "\n",
    "For instance, type `tt = tango.DeviceProxy(\" + <TAB>` to select a device along the list of exported ones."
   ]
  },
  {
   "cell_type": "code",
   "execution_count": null,
   "metadata": {
    "tags": []
   },
   "outputs": [],
   "source": [
    "import tango\n",
    "\n",
    "tt = tango.DeviceProxy(\"sys/"
   ]
  },
  {
   "cell_type": "code",
   "execution_count": null,
   "metadata": {
    "tags": []
   },
   "outputs": [],
   "source": []
  },
  {
   "cell_type": "markdown",
   "metadata": {},
   "source": [
    "### Interactive visualisation with jupyTango & ipywidgets "
   ]
  },
  {
   "cell_type": "code",
   "execution_count": null,
   "metadata": {},
   "outputs": [],
   "source": [
    "tgm -w 1200 -h 400 -p 0.25 sys/tg_test/1/wave"
   ]
  },
  {
   "cell_type": "code",
   "execution_count": null,
   "metadata": {
    "tags": []
   },
   "outputs": [],
   "source": [
    "import ipywidgets as widgets\n",
    "\n",
    "tt = tango.DeviceProxy(\"sys/tg_test/1\")\n",
    "tt.ampli = 1\n",
    "tt.freq = 10\n",
    "\n",
    "afs = widgets.FloatSlider(description='Amp. (a.u.)', value=tt.ampli)\n",
    "ffs = widgets.FloatSlider(description='Freq. (Hz)', value=tt.freq)\n",
    "\n",
    "tt = tango.DeviceProxy(\"sys/tg_test/1\")\n",
    "\n",
    "def on_ampli_change(change):\n",
    "    tt.ampli = change['new']\n",
    "    \n",
    "def on_freq_change(change):\n",
    "    tt.freq = change['new']\n",
    "    \n",
    "afs.observe(on_ampli_change, names='value')\n",
    "ffs.observe(on_freq_change, names='value')\n",
    "\n",
    "display(afs, ffs)"
   ]
  },
  {
   "cell_type": "code",
   "execution_count": null,
   "metadata": {},
   "outputs": [],
   "source": []
  }
 ],
 "metadata": {
  "kernelspec": {
   "display_name": "jupyTango",
   "language": "python",
   "name": "jupytango"
  },
  "language_info": {
   "codemirror_mode": {
    "name": "ipython",
    "version": 3
   },
   "file_extension": ".py",
   "mimetype": "text/x-python",
   "name": "python",
   "nbconvert_exporter": "python",
   "pygments_lexer": "ipython3",
   "version": "3.8.11"
  }
 },
 "nbformat": 4,
 "nbformat_minor": 4
}
