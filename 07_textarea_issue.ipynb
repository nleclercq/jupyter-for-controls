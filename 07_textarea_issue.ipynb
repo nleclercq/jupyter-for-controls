{
 "cells": [
  {
   "cell_type": "markdown",
   "metadata": {},
   "source": [
    "In our use case, the idea is to popup an TextArea when an error occurred in an asynchronous process and to hide it when the error condition disappears. The implementation uses a dedicated Output to display the TextArea when an error occurred. The Output.clear_output is then called to remove the TextArea when the problem is fixed.\n",
    "\n",
    "In the following code, the asynchronous activity is simulated by a thread. This works smoothly in the classic Notebook but doesn't behave as expected in JupyterLab : the TextArea doesn't show up or remains displayed. The ipywidgets Jupyterlab extension is (obviously) properly installed and works as expected in other contexts."
   ]
  },
  {
   "cell_type": "code",
   "execution_count": null,
   "metadata": {},
   "outputs": [],
   "source": [
    "import threading\n",
    "import time\n",
    "from IPython.display import display\n",
    "import ipywidgets as widgets\n",
    "\n",
    "class AsyncErrorArea(object):\n",
    "    \n",
    "    def __init__(self):\n",
    "        self.cnt = 0\n",
    "        self.err = False\n",
    "        self.wta = widgets.Textarea(layout = widgets.Layout(flex='1 1 auto', width='auto'),\n",
    "                                    placeholder='You should not see this TextArea!',\n",
    "                                    disabled=True) \n",
    "        weo_layout = widgets.Layout(flex='1 1 auto', width='auto')\n",
    "        weo_layout.border = \"1px solid grey\"\n",
    "        self.weo = widgets.Output(layout=weo_layout)\n",
    "        display(self.weo)\n",
    "\n",
    "    def show_error(self, err):\n",
    "        try:\n",
    "            self.err = True\n",
    "            txt = \"Oops, the following error occurred: \" + err\n",
    "            self.wta.value = txt\n",
    "            self.wta.rows = 2\n",
    "            with self.weo:\n",
    "                display(self.wta)\n",
    "            self.weo.layout.border = \"\"\n",
    "        except Exception as e:\n",
    "            print(e)\n",
    "     \n",
    "    def hide_error(self):\n",
    "        try:\n",
    "            self.err = False\n",
    "            self.wta.value = \"\"\n",
    "            self.weo.clear_output()\n",
    "            self.weo.layout.border = \"1px solid grey\"\n",
    "        except Exception as e:\n",
    "            print(e)\n",
    "            \n",
    "    def simul_activity(self):\n",
    "        try:\n",
    "            while not self.exit_requested:\n",
    "                self.cnt += 1\n",
    "                if not self.cnt % 3:\n",
    "                    self.show_error(\"error #{}\".format(self.cnt))\n",
    "                elif self.err:\n",
    "                    self.hide_error()\n",
    "                time.sleep(1.)\n",
    "        except Exception as e:\n",
    "            print(e)\n",
    "        \n",
    "    def start(self):\n",
    "        self.exit_requested = False\n",
    "        self.thread = threading.Thread(target=self.simul_activity)\n",
    "        self.thread.start()\n",
    "        \n",
    "    def exit(self):\n",
    "        self.exit_requested = True\n",
    "        self.thread.join()"
   ]
  },
  {
   "cell_type": "code",
   "execution_count": null,
   "metadata": {},
   "outputs": [],
   "source": [
    "aea = AsyncErrorArea()\n",
    "aea.start()"
   ]
  },
  {
   "cell_type": "code",
   "execution_count": null,
   "metadata": {},
   "outputs": [],
   "source": [
    "aea.exit()"
   ]
  }
 ],
 "metadata": {
  "kernelspec": {
   "display_name": "Python 3",
   "language": "python",
   "name": "python3"
  },
  "language_info": {
   "name": ""
  }
 },
 "nbformat": 4,
 "nbformat_minor": 4
}
